{
 "cells": [
  {
   "cell_type": "code",
   "execution_count": 1,
   "id": "9cd070ab",
   "metadata": {},
   "outputs": [],
   "source": [
    "# import sklearn"
   ]
  },
  {
   "cell_type": "code",
   "execution_count": 2,
   "id": "b583d258",
   "metadata": {},
   "outputs": [],
   "source": [
    "# !python -m pip install sklearn"
   ]
  },
  {
   "cell_type": "code",
   "execution_count": 3,
   "id": "94a057eb",
   "metadata": {},
   "outputs": [],
   "source": [
    "# %load_ext autoreload\n",
    "\n",
    "# %autoreload 2"
   ]
  },
  {
   "cell_type": "code",
   "execution_count": 4,
   "id": "c472e735",
   "metadata": {},
   "outputs": [],
   "source": [
    "import pandas as pd"
   ]
  },
  {
   "cell_type": "code",
   "execution_count": 5,
   "id": "e259cdf7",
   "metadata": {},
   "outputs": [
    {
     "name": "stdout",
     "output_type": "stream",
     "text": [
      " C 드라이브의 볼륨에는 이름이 없습니다.\n",
      " 볼륨 일련 번호: 78D5-6279\n",
      "\n",
      " C:\\Develops\\test_machinelearning\\files 디렉터리\n",
      "\n",
      "2021-06-29  오전 11:03            21,913 auto-mpg.csv\n",
      "               1개 파일              21,913 바이트\n",
      "               0개 디렉터리  207,786,430,464 바이트 남음\n"
     ]
    }
   ],
   "source": [
    "!dir .\\files\\auto-mpg.csv"
   ]
  },
  {
   "cell_type": "code",
   "execution_count": 6,
   "id": "118d2adf",
   "metadata": {},
   "outputs": [
    {
     "name": "stdout",
     "output_type": "stream",
     "text": [
      "<class 'pandas.core.frame.DataFrame'>\n",
      "RangeIndex: 398 entries, 0 to 397\n",
      "Data columns (total 9 columns):\n",
      " #   Column  Non-Null Count  Dtype  \n",
      "---  ------  --------------  -----  \n",
      " 0   0       398 non-null    float64\n",
      " 1   1       398 non-null    int64  \n",
      " 2   2       398 non-null    float64\n",
      " 3   3       398 non-null    object \n",
      " 4   4       398 non-null    float64\n",
      " 5   5       398 non-null    float64\n",
      " 6   6       398 non-null    int64  \n",
      " 7   7       398 non-null    int64  \n",
      " 8   8       398 non-null    object \n",
      "dtypes: float64(4), int64(3), object(2)\n",
      "memory usage: 28.1+ KB\n"
     ]
    }
   ],
   "source": [
    "pd_data = pd.read_csv('./files/auto-mpg.csv', header=None)\n",
    "pd_data.info()"
   ]
  },
  {
   "cell_type": "code",
   "execution_count": 7,
   "id": "9e5a5e0d",
   "metadata": {},
   "outputs": [
    {
     "data": {
      "text/plain": [
       "(398, 9)"
      ]
     },
     "execution_count": 7,
     "metadata": {},
     "output_type": "execute_result"
    }
   ],
   "source": [
    "pd_data.shape\n",
    "# pd_data[['mpg', 'weight']]"
   ]
  },
  {
   "cell_type": "code",
   "execution_count": 8,
   "id": "38c0a89e",
   "metadata": {},
   "outputs": [],
   "source": [
    "pd_data.columns = ['mpg','cylinders','displacement','horsepower','weight',\n",
    "              'acceleration','model year','origin','name'] "
   ]
  },
  {
   "cell_type": "code",
   "execution_count": 20,
   "id": "5b90da41",
   "metadata": {},
   "outputs": [],
   "source": [
    "x = pd_data[['weight', 'cylinders']]"
   ]
  },
  {
   "cell_type": "code",
   "execution_count": 21,
   "id": "daece1b3",
   "metadata": {},
   "outputs": [],
   "source": [
    "y = pd_data[['mpg']]"
   ]
  },
  {
   "cell_type": "code",
   "execution_count": 22,
   "id": "891b6ee3",
   "metadata": {},
   "outputs": [
    {
     "data": {
      "text/plain": [
       "((398, 2), (398, 1))"
      ]
     },
     "execution_count": 22,
     "metadata": {},
     "output_type": "execute_result"
    }
   ],
   "source": [
    "x.shape, y.shape"
   ]
  },
  {
   "cell_type": "code",
   "execution_count": 23,
   "id": "cefe5620",
   "metadata": {},
   "outputs": [],
   "source": [
    "from sklearn.model_selection import train_test_split"
   ]
  },
  {
   "cell_type": "code",
   "execution_count": 24,
   "id": "d7688f1d",
   "metadata": {},
   "outputs": [
    {
     "data": {
      "text/plain": [
       "((298, 2), (100, 2), (298, 1), (100, 1))"
      ]
     },
     "execution_count": 24,
     "metadata": {},
     "output_type": "execute_result"
    }
   ],
   "source": [
    "X_train, X_test, Y_train, Y_test = train_test_split(x,y)\n",
    "X_train.shape, X_test.shape, Y_train.shape, Y_test.shape"
   ]
  },
  {
   "cell_type": "code",
   "execution_count": 25,
   "id": "92061ff0",
   "metadata": {},
   "outputs": [],
   "source": [
    "from sklearn.linear_model import LinearRegression"
   ]
  },
  {
   "cell_type": "code",
   "execution_count": 26,
   "id": "0b636017",
   "metadata": {},
   "outputs": [],
   "source": [
    "lr = LinearRegression()"
   ]
  },
  {
   "cell_type": "code",
   "execution_count": 28,
   "id": "6153a6dd",
   "metadata": {},
   "outputs": [
    {
     "data": {
      "text/plain": [
       "LinearRegression()"
      ]
     },
     "execution_count": 28,
     "metadata": {},
     "output_type": "execute_result"
    }
   ],
   "source": [
    "# lr.fit(x,y)\n",
    "lr.fit(X_train,Y_train)"
   ]
  },
  {
   "cell_type": "code",
   "execution_count": 29,
   "id": "8686e1fa",
   "metadata": {},
   "outputs": [
    {
     "data": {
      "text/plain": [
       "(array([[-0.00582131, -1.03509013]]), array([46.30959034]))"
      ]
     },
     "execution_count": 29,
     "metadata": {},
     "output_type": "execute_result"
    }
   ],
   "source": [
    "# split data with 1 column\n",
    "lr.coef_, lr.intercept_ "
   ]
  },
  {
   "cell_type": "markdown",
   "id": "89db4de7",
   "metadata": {},
   "source": [
    "y = -0.00767661x_1 + -1.03509013x_2 + 46.31736442"
   ]
  },
  {
   "cell_type": "code",
   "execution_count": 19,
   "id": "beae7bb0",
   "metadata": {},
   "outputs": [
    {
     "data": {
      "text/plain": [
       "0.691357983950138"
      ]
     },
     "execution_count": 19,
     "metadata": {},
     "output_type": "execute_result"
    }
   ],
   "source": [
    "lr.score(x,y)"
   ]
  },
  {
   "cell_type": "code",
   "execution_count": null,
   "id": "aea4b54d",
   "metadata": {},
   "outputs": [],
   "source": []
  }
 ],
 "metadata": {
  "kernelspec": {
   "display_name": "Python 3",
   "language": "python",
   "name": "python3"
  },
  "language_info": {
   "codemirror_mode": {
    "name": "ipython",
    "version": 3
   },
   "file_extension": ".py",
   "mimetype": "text/x-python",
   "name": "python",
   "nbconvert_exporter": "python",
   "pygments_lexer": "ipython3",
   "version": "3.6.4"
  }
 },
 "nbformat": 4,
 "nbformat_minor": 5
}
